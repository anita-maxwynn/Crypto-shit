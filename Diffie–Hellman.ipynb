{
  "nbformat": 4,
  "nbformat_minor": 0,
  "metadata": {
    "colab": {
      "provenance": [],
      "authorship_tag": "ABX9TyN1Ff82LhWXrS8vDx/FICDJ",
      "include_colab_link": true
    },
    "kernelspec": {
      "name": "python3",
      "display_name": "Python 3"
    },
    "language_info": {
      "name": "python"
    }
  },
  "cells": [
    {
      "cell_type": "markdown",
      "metadata": {
        "id": "view-in-github",
        "colab_type": "text"
      },
      "source": [
        "<a href=\"https://colab.research.google.com/github/anita-maxwynn/Crypto-shit/blob/main/Diffie%E2%80%93Hellman.ipynb\" target=\"_parent\"><img src=\"https://colab.research.google.com/assets/colab-badge.svg\" alt=\"Open In Colab\"/></a>"
      ]
    },
    {
      "cell_type": "markdown",
      "source": [
        "# Diffie-Hellman"
      ],
      "metadata": {
        "id": "jE9cFGbf0B8Y"
      }
    },
    {
      "cell_type": "code",
      "execution_count": null,
      "metadata": {
        "colab": {
          "base_uri": "https://localhost:8080/"
        },
        "id": "3SBEEvhuu_O4",
        "outputId": "2b8281e5-b479-4cec-f3ce-400d9e5b234c"
      },
      "outputs": [
        {
          "output_type": "stream",
          "name": "stdout",
          "text": [
            "Requirement already satisfied: cryptography in /usr/local/lib/python3.12/dist-packages (43.0.3)\n",
            "Requirement already satisfied: cffi>=1.12 in /usr/local/lib/python3.12/dist-packages (from cryptography) (2.0.0)\n",
            "Requirement already satisfied: pycparser in /usr/local/lib/python3.12/dist-packages (from cffi>=1.12->cryptography) (2.23)\n"
          ]
        }
      ],
      "source": [
        "!pip install cryptography"
      ]
    },
    {
      "cell_type": "code",
      "source": [
        "from cryptography.hazmat.primitives.asymmetric import dh\n",
        "from cryptography.hazmat.primitives import serialization, hashes\n",
        "from cryptography.hazmat.backends import default_backend"
      ],
      "metadata": {
        "id": "ebmcjSTmwQZ2"
      },
      "execution_count": null,
      "outputs": []
    },
    {
      "cell_type": "code",
      "source": [
        "parameters=dh.generate_parameters(generator=2,key_size=2048,backend=default_backend())"
      ],
      "metadata": {
        "id": "6UsnoMRHwobe"
      },
      "execution_count": null,
      "outputs": []
    },
    {
      "cell_type": "code",
      "source": [
        "print(parameters)"
      ],
      "metadata": {
        "colab": {
          "base_uri": "https://localhost:8080/"
        },
        "id": "PIiNMjhJw5Jy",
        "outputId": "2b2dece3-bda7-4182-f323-260cd45c907c"
      },
      "execution_count": null,
      "outputs": [
        {
          "output_type": "stream",
          "name": "stdout",
          "text": [
            "<cryptography.hazmat.bindings._rust.openssl.dh.DHParameters object at 0x7ec1ac53e090>\n"
          ]
        }
      ]
    },
    {
      "cell_type": "code",
      "source": [
        "private_key_1=parameters.generate_private_key()\n",
        "public_key_1 = private_key_1.public_key()\n",
        "\n",
        "print(private_key_1)\n",
        "print(public_key_1)"
      ],
      "metadata": {
        "colab": {
          "base_uri": "https://localhost:8080/"
        },
        "id": "RAo2QpxRw5Ix",
        "outputId": "93e86583-1e2b-46a4-9bde-f0f3245942fa"
      },
      "execution_count": null,
      "outputs": [
        {
          "output_type": "stream",
          "name": "stdout",
          "text": [
            "<cryptography.hazmat.bindings._rust.openssl.dh.DHPrivateKey object at 0x7ec1ac53d3b0>\n",
            "<cryptography.hazmat.bindings._rust.openssl.dh.DHPublicKey object at 0x7ec1ac53c3b0>\n"
          ]
        }
      ]
    },
    {
      "cell_type": "code",
      "source": [
        "private_key_2=parameters.generate_private_key()\n",
        "public_key_2 = private_key_2.public_key()\n",
        "\n",
        "print(private_key_2)\n",
        "print(public_key_2)"
      ],
      "metadata": {
        "colab": {
          "base_uri": "https://localhost:8080/"
        },
        "id": "cw1tbEtfxRM6",
        "outputId": "accfdced-bc9a-40ad-8d55-97ebcc4d68e3"
      },
      "execution_count": null,
      "outputs": [
        {
          "output_type": "stream",
          "name": "stdout",
          "text": [
            "<cryptography.hazmat.bindings._rust.openssl.dh.DHPrivateKey object at 0x7ec1ac53dcf0>\n",
            "<cryptography.hazmat.bindings._rust.openssl.dh.DHPublicKey object at 0x7ec1ac53cc50>\n"
          ]
        }
      ]
    },
    {
      "cell_type": "code",
      "source": [
        "x=public_key_1\n",
        "y=public_key_2"
      ],
      "metadata": {
        "id": "ZgIYHHavxRL5"
      },
      "execution_count": null,
      "outputs": []
    },
    {
      "cell_type": "code",
      "source": [
        "shared_key_1=private_key_1.exchange(y)\n",
        "shared_key_2=private_key_2.exchange(x)"
      ],
      "metadata": {
        "id": "EGgmpbukxmpC"
      },
      "execution_count": null,
      "outputs": []
    },
    {
      "cell_type": "code",
      "source": [
        "if shared_key_1==shared_key_2:\n",
        "  print(\"Shared keys are equal\")\n",
        "else:\n",
        "  print(\"Shared keys are not equal\")"
      ],
      "metadata": {
        "colab": {
          "base_uri": "https://localhost:8080/"
        },
        "id": "VN47fyfJxwZN",
        "outputId": "89a8c48b-b36b-469d-f42c-069cf417fb33"
      },
      "execution_count": null,
      "outputs": [
        {
          "output_type": "stream",
          "name": "stdout",
          "text": [
            "Shared keys are equal\n"
          ]
        }
      ]
    },
    {
      "cell_type": "markdown",
      "source": [
        "Mathematically:\n",
        "\n",
        "* A’s private = `a`\n",
        "* A’s public = `g^a mod p`\n",
        "* B’s private = `b`\n",
        "* B’s public = `g^b mod p`\n",
        "\n",
        "When A computes:\n",
        "\n",
        "```\n",
        "shared_key_1 = (g^b)^a mod p = g^(ab) mod p\n",
        "```\n",
        "\n",
        "When B computes:\n",
        "\n",
        "```\n",
        "shared_key_2 = (g^a)^b mod p = g^(ab) mod p\n",
        "```\n",
        "\n",
        "They are **identical** (because multiplication is commutative: `ab = ba`).\n",
        "\n"
      ],
      "metadata": {
        "id": "BGOSpeR51wqe"
      }
    },
    {
      "cell_type": "markdown",
      "metadata": {
        "id": "236780ea"
      },
      "source": [
        "# Task\n",
        "Encrypt a message using a shared secret key and verify the encryption by decrypting the message."
      ]
    },
    {
      "cell_type": "markdown",
      "metadata": {
        "id": "701cb57e"
      },
      "source": [
        "## Key derivation\n",
        "\n",
        "### Subtask:\n",
        "Derive a symmetric encryption key from the shared secret key using a suitable Key Derivation Function (KDF).\n"
      ]
    },
    {
      "cell_type": "markdown",
      "metadata": {
        "id": "2039ffef"
      },
      "source": [
        "**Reasoning**:\n",
        "Import necessary modules for key derivation and define a salt. Then, instantiate the KDF and derive the symmetric key from the shared secret.\n",
        "\n"
      ]
    },
    {
      "cell_type": "code",
      "metadata": {
        "colab": {
          "base_uri": "https://localhost:8080/"
        },
        "id": "cbeedf75",
        "outputId": "42bf2328-3215-44dc-ff2c-7b47128d4ba7"
      },
      "source": [
        "from cryptography.hazmat.primitives.kdf.pbkdf2 import PBKDF2HMAC\n",
        "from cryptography.hazmat.primitives import hashes\n",
        "from cryptography.hazmat.backends import default_backend\n",
        "\n",
        "# Define a salt\n",
        "salt = b\"thisisagoodsaltformyproject\"\n",
        "\n",
        "# Instantiate PBKDF2HMAC\n",
        "kdf = PBKDF2HMAC(\n",
        "    algorithm=hashes.SHA256(),\n",
        "    length=32,\n",
        "    salt=salt,\n",
        "    iterations=100000,\n",
        "    backend=default_backend()\n",
        ")\n",
        "\n",
        "# Derive the key\n",
        "derived_key = kdf.derive(shared_key_1)\n",
        "\n",
        "print(derived_key)"
      ],
      "execution_count": null,
      "outputs": [
        {
          "output_type": "stream",
          "name": "stdout",
          "text": [
            "b'\\x8f\\x9dCU)\\xba\\xc0\\xdb;\\xa5\\xecyoJ\\xf2\\x92\\x15\\xc7I%5p}8\\x13\\xb0e\\xa0\\x07\\xfe\\xb0e'\n"
          ]
        }
      ]
    },
    {
      "cell_type": "markdown",
      "metadata": {
        "id": "fadebdb5"
      },
      "source": [
        "## Encryption\n",
        "\n",
        "### Subtask:\n",
        "Encrypt a sample message using the derived key and a symmetric encryption algorithm (e.g., AES).\n"
      ]
    },
    {
      "cell_type": "markdown",
      "metadata": {
        "id": "69447bb6"
      },
      "source": [
        "**Reasoning**:\n",
        "Encrypt a sample message using the derived key and AES in CBC mode.\n",
        "\n"
      ]
    },
    {
      "cell_type": "code",
      "metadata": {
        "colab": {
          "base_uri": "https://localhost:8080/"
        },
        "id": "8d814fc9",
        "outputId": "8c87f183-804b-4c1f-e535-74504539227b"
      },
      "source": [
        "from cryptography.hazmat.primitives.ciphers import Cipher, algorithms, modes\n",
        "import os\n",
        "from cryptography.hazmat.primitives import padding\n",
        "\n",
        "# Define a sample message\n",
        "message = b\"This is a secret message that needs to be encrypted.\"\n",
        "\n",
        "# Generate a random initialization vector (IV)\n",
        "iv = os.urandom(16)  # AES block size is 16 bytes\n",
        "\n",
        "# Create an AES encryptor object\n",
        "cipher = Cipher(algorithms.AES(derived_key), modes.CBC(iv), backend=default_backend())\n",
        "encryptor = cipher.encryptor()\n",
        "\n",
        "# Apply PKCS7 padding to the message\n",
        "padder = padding.PKCS7(algorithms.AES.block_size).padder()\n",
        "padded_data = padder.update(message) + padder.finalize()\n",
        "\n",
        "# Encrypt the padded message\n",
        "ciphertext = encryptor.update(padded_data) + encryptor.finalize()\n",
        "\n",
        "# Print the original message, the IV, and the ciphertext\n",
        "print(\"Original Message:\", message)\n",
        "print(\"IV:\", iv)\n",
        "print(\"Ciphertext:\", ciphertext)"
      ],
      "execution_count": null,
      "outputs": [
        {
          "output_type": "stream",
          "name": "stdout",
          "text": [
            "Original Message: b'This is a secret message that needs to be encrypted.'\n",
            "IV: b'\\xa2\\xc5\\x7f\\xb4\\x9b*m\\xc5SQ\\x04\\x9f\\xdan\\xea\\x87'\n",
            "Ciphertext: b'\\x92\\xfb\\x91\\xff5\\x90\\xae\\x8b\\x12\\x95*[\\xa5\\xdd\\x96J=(\"4\\xde\\xf5\\xd6.sy3\\x07\\xe1&\\xb75\\x93\\xceb\\x82\\x16!\\xb7Z\\xae\\xef\\x81J\\xa0\\xbf\\xab\\xb6\\xdd\\xac\\xd2\\xc5\\x07\\x80\\x82\\\\\\xd1\\x81\\x1f\\xe2[d\\x8eF'\n"
          ]
        }
      ]
    },
    {
      "cell_type": "markdown",
      "metadata": {
        "id": "62377bb3"
      },
      "source": [
        "**Reasoning**:\n",
        "The previous attempt failed because the message length is not a multiple of the block size. Padding is required for CBC mode.\n",
        "\n"
      ]
    },
    {
      "cell_type": "code",
      "metadata": {
        "colab": {
          "base_uri": "https://localhost:8080/"
        },
        "id": "-3IcZ0Sqyrrw",
        "outputId": "56cf6418-2d74-47b0-9671-4a34f30b434e"
      },
      "source": [
        "from cryptography.hazmat.primitives import padding\n",
        "\n",
        "# Define a sample message\n",
        "message = b\"This is a secret message that needs to be encrypted.\"\n",
        "\n",
        "# Generate a random initialization vector (IV)\n",
        "iv = os.urandom(16)  # AES block size is 16 bytes\n",
        "\n",
        "# Create an AES encryptor object\n",
        "cipher = Cipher(algorithms.AES(derived_key), modes.CBC(iv), backend=default_backend())\n",
        "encryptor = cipher.encryptor()\n",
        "\n",
        "# Apply PKCS7 padding to the message\n",
        "padder = padding.PKCS7(algorithms.AES.block_size).padder()\n",
        "padded_data = padder.update(message) + padder.finalize()\n",
        "\n",
        "# Encrypt the padded message\n",
        "ciphertext = encryptor.update(padded_data) + encryptor.finalize()\n",
        "\n",
        "# Print the original message, the IV, and the ciphertext\n",
        "print(\"Original Message:\", message)\n",
        "print(\"IV:\", iv)\n",
        "print(\"Ciphertext:\", ciphertext)"
      ],
      "execution_count": null,
      "outputs": [
        {
          "output_type": "stream",
          "name": "stdout",
          "text": [
            "Original Message: b'This is a secret message that needs to be encrypted.'\n",
            "IV: b'\\x83@\\xfe\\xc81{f\\x10\\xb3\\xdct\\xc9\\xcd\\x9c\\xf8\\xcf'\n",
            "Ciphertext: b'\\xfe\\xe1a\\xbc\\x11\\xb5,\\x1b\\xcdq=\\x1bw@W\\xad\\xc6\\xcc\\xef\\xf3\\xce\\xf6\\xd5\\xc6\\x85\\xa7\\x9es\\xca\\x96Nm\\x9bq\\xddNW\\xea\\xe9g\\x02=\\x96\\xc9[\\xbb\\xfcY\\xa6\\x04\\xd3K=\\xad\\xb9\\x89\\x0b\\xd4\\x1b\\x04s*\\xcb\\x15'\n"
          ]
        }
      ]
    },
    {
      "cell_type": "markdown",
      "metadata": {
        "id": "086a7dcf"
      },
      "source": [
        "## Decryption\n",
        "\n",
        "### Subtask:\n",
        "Decrypt the encrypted message using the same derived key and symmetric encryption algorithm.\n"
      ]
    },
    {
      "cell_type": "markdown",
      "metadata": {
        "id": "8d3bd3af"
      },
      "source": [
        "**Reasoning**:\n",
        "Decrypt the encrypted message using the derived key, the same IV, and the CBC mode, applying PKCS7 unpadding.\n",
        "\n"
      ]
    },
    {
      "cell_type": "code",
      "metadata": {
        "colab": {
          "base_uri": "https://localhost:8080/"
        },
        "id": "84ab863e",
        "outputId": "dd607f05-d9c1-4707-bec7-f4444943bf17"
      },
      "source": [
        "from cryptography.hazmat.primitives.ciphers import Cipher, algorithms, modes\n",
        "from cryptography.hazmat.primitives import padding\n",
        "\n",
        "# Create an AES decryptor object\n",
        "cipher = Cipher(algorithms.AES(derived_key), modes.CBC(iv), backend=default_backend())\n",
        "decryptor = cipher.decryptor()\n",
        "\n",
        "# Decrypt the ciphertext\n",
        "decrypted_padded_data = decryptor.update(ciphertext) + decryptor.finalize()\n",
        "\n",
        "# Unpad the decrypted data\n",
        "unpadder = padding.PKCS7(algorithms.AES.block_size).unpadder()\n",
        "decrypted_message = unpadder.update(decrypted_padded_data) + unpadder.finalize()\n",
        "\n",
        "# Print the decrypted message\n",
        "print(\"Decrypted Message:\", decrypted_message)"
      ],
      "execution_count": null,
      "outputs": [
        {
          "output_type": "stream",
          "name": "stdout",
          "text": [
            "Decrypted Message: b'This is a secret message that needs to be encrypted.'\n"
          ]
        }
      ]
    },
    {
      "cell_type": "markdown",
      "metadata": {
        "id": "d8408048"
      },
      "source": [
        "## Verification\n",
        "\n",
        "### Subtask:\n",
        "Verify that the decrypted message is the same as the original message.\n"
      ]
    },
    {
      "cell_type": "markdown",
      "metadata": {
        "id": "4f929cf1"
      },
      "source": [
        "**Reasoning**:\n",
        "Compare the decrypted message with the original message and print the result.\n",
        "\n"
      ]
    },
    {
      "cell_type": "code",
      "metadata": {
        "colab": {
          "base_uri": "https://localhost:8080/"
        },
        "id": "dedf5ff4",
        "outputId": "53b22e2d-2bda-4878-c385-1eb0955df54b"
      },
      "source": [
        "if decrypted_message == message:\n",
        "  print(\"Decryption successful: The decrypted message matches the original message.\")\n",
        "else:\n",
        "  print(\"Decryption failed: The decrypted message does not match the original message.\")"
      ],
      "execution_count": null,
      "outputs": [
        {
          "output_type": "stream",
          "name": "stdout",
          "text": [
            "Decryption successful: The decrypted message matches the original message.\n"
          ]
        }
      ]
    },
    {
      "cell_type": "markdown",
      "metadata": {
        "id": "2095ff87"
      },
      "source": [
        "## Summary:\n",
        "\n",
        "### Data Analysis Key Findings\n",
        "\n",
        "*   A symmetric encryption key was successfully derived from a shared secret key using PBKDF2HMAC with SHA256, a key length of 32 bytes, a specified salt, and 100,000 iterations.\n",
        "*   The sample message \"This is a secret message that needs to be encrypted.\" was successfully encrypted using AES in CBC mode with a randomly generated 16-byte IV and PKCS7 padding to handle the message length.\n",
        "*   The ciphertext was successfully decrypted back to the original message using the same derived key, IV, and decryption/unpadding process.\n",
        "*   The decrypted message was verified to be identical to the original message, confirming the success of the encryption and decryption process.\n",
        "\n",
        "### Insights or Next Steps\n",
        "\n",
        "*   The successful encryption and decryption demonstrate the correct implementation of a basic symmetric encryption scheme using derived keys.\n",
        "*   For production environments, consider storing the salt and iteration count securely and using a more robust method for handling the shared secret key.\n"
      ]
    }
  ]
}