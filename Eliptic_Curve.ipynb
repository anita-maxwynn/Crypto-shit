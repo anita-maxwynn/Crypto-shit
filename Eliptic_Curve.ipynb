{
  "nbformat": 4,
  "nbformat_minor": 0,
  "metadata": {
    "colab": {
      "provenance": [],
      "authorship_tag": "ABX9TyP3apg0EwIhy1jGi6q1sLS2",
      "include_colab_link": true
    },
    "kernelspec": {
      "name": "python3",
      "display_name": "Python 3"
    },
    "language_info": {
      "name": "python"
    }
  },
  "cells": [
    {
      "cell_type": "markdown",
      "metadata": {
        "id": "view-in-github",
        "colab_type": "text"
      },
      "source": [
        "<a href=\"https://colab.research.google.com/github/anita-maxwynn/Crypto-shit/blob/main/Eliptic_Curve.ipynb\" target=\"_parent\"><img src=\"https://colab.research.google.com/assets/colab-badge.svg\" alt=\"Open In Colab\"/></a>"
      ]
    },
    {
      "cell_type": "code",
      "source": [],
      "metadata": {
        "id": "I_t6XRSQdSSs"
      },
      "execution_count": null,
      "outputs": []
    },
    {
      "cell_type": "code",
      "execution_count": null,
      "metadata": {
        "id": "NRNfL9DYZg_l"
      },
      "outputs": [],
      "source": [
        "class Point:\n",
        "  def __init__(self,x,y):\n",
        "    self.x = x\n",
        "    self.y = y\n",
        "  def __str__(self):\n",
        "    return \"(\" + str(self.x) + \",\" + str(self.y) + \")\""
      ]
    },
    {
      "cell_type": "code",
      "source": [
        "def inverse_mod_p(a,p):\n",
        "  return pow(a,-1,p)"
      ],
      "metadata": {
        "id": "PAbbH9sSdT4W"
      },
      "execution_count": null,
      "outputs": []
    },
    {
      "cell_type": "code",
      "source": [
        "class Elipic_Curve:\n",
        "  def __init__(self,a,b,p):\n",
        "    self.a = a\n",
        "    self.b = b\n",
        "    self.p = p\n",
        "  def __str__(self):\n",
        "    return \"(\" + str(self.a) + \",\" + str(self.b) + \",\" + str(self.p) + \")\"\n",
        "  def is_on_curve(self,P):\n",
        "    return (P.y**2 - P.x**3 - self.a*P.x - self.b) % self.p == 0\n",
        "  def add(self,P,Q):\n",
        "    if P == None:\n",
        "      return Q\n",
        "    if Q == None:\n",
        "      return P\n",
        "    if P.x == Q.x and ((P.y + Q.y )%p == 0):\n",
        "      return None\n",
        "    if P == Q:\n",
        "      l = (3*P.x**2 + self.a)*inverse_mod_p(2*P.y,self.p)\n",
        "    else:\n",
        "      l = (Q.y - P.y)*inverse_mod((Q.x-P.x)%p,p)%p\n",
        "    x = (l**2 - P.x - Q.x)%p\n",
        "    y = (l*(P.x - x) - P.y)%p\n",
        "    return Point(x,y)\n",
        "  def double(self,P):\n",
        "    return self.add(P,P)\n",
        "  def neg_point(self,P):\n",
        "    return Point(P.x,-P.y%p)\n",
        "  def scaler_multiply(self,k,P):\n",
        "    if k%p == 0 or P is None:\n",
        "      return None\n",
        "    if k < 0:\n",
        "      return self.scaler_multiply(-k,self.neg_point(P))\n",
        "    A=None\n",
        "    B=P\n",
        "    while k>0:\n",
        "      if k&1:\n",
        "        A=self.add(A,B)\n",
        "      B=self.double(B)\n",
        "      k>>=1\n",
        "    return A"
      ],
      "metadata": {
        "id": "G_GGiFeEcgyP"
      },
      "execution_count": 2,
      "outputs": []
    },
    {
      "cell_type": "code",
      "source": [],
      "metadata": {
        "id": "A7VBTkH8c30v"
      },
      "execution_count": null,
      "outputs": []
    }
  ]
}