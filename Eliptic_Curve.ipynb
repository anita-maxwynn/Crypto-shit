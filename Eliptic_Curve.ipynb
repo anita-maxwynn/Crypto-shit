{
  "nbformat": 4,
  "nbformat_minor": 0,
  "metadata": {
    "colab": {
      "provenance": [],
      "authorship_tag": "ABX9TyOZsdJcoPrg8wRmNAWULDqF",
      "include_colab_link": true
    },
    "kernelspec": {
      "name": "python3",
      "display_name": "Python 3"
    },
    "language_info": {
      "name": "python"
    }
  },
  "cells": [
    {
      "cell_type": "markdown",
      "metadata": {
        "id": "view-in-github",
        "colab_type": "text"
      },
      "source": [
        "<a href=\"https://colab.research.google.com/github/anita-maxwynn/Crypto-shit/blob/main/Eliptic_Curve.ipynb\" target=\"_parent\"><img src=\"https://colab.research.google.com/assets/colab-badge.svg\" alt=\"Open In Colab\"/></a>"
      ]
    },
    {
      "cell_type": "code",
      "source": [
        "from cryptography.hazmat.primitives.kdf.hkdf import HKDF\n",
        "from cryptography.hazmat.primitives import hashes\n",
        "from cryptography.hazmat.primitives.ciphers.aead import AESGCM\n",
        "import secrets\n",
        "import os"
      ],
      "metadata": {
        "id": "I_t6XRSQdSSs"
      },
      "execution_count": 1,
      "outputs": []
    },
    {
      "cell_type": "code",
      "execution_count": 2,
      "metadata": {
        "id": "NRNfL9DYZg_l"
      },
      "outputs": [],
      "source": [
        "class Point:\n",
        "    def __init__(self, x, y):\n",
        "        self.x = x\n",
        "        self.y = y\n",
        "\n",
        "    def __eq__(self, other):\n",
        "        if other is None:\n",
        "            return False\n",
        "        return (self.x == other.x) and (self.y == other.y)\n",
        "\n",
        "    def __repr__(self):\n",
        "        return f\"Point({self.x}, {self.y})\"\n",
        "\n",
        "    def __str__(self):\n",
        "        return \"(\" + str(self.x) + \",\" + str(self.y) + \")\""
      ]
    },
    {
      "cell_type": "code",
      "source": [
        "def inverse_mod_p(a, p):\n",
        "    \"\"\"Return modular inverse of a mod p. Assumes p is prime and a % p != 0.\"\"\"\n",
        "    return pow(a, -1, p)"
      ],
      "metadata": {
        "id": "PAbbH9sSdT4W"
      },
      "execution_count": 3,
      "outputs": []
    },
    {
      "cell_type": "code",
      "source": [
        "class Elipic_Curve:\n",
        "    def __init__(self, a, b, p,salt):\n",
        "        self.a = a\n",
        "        self.b = b\n",
        "        self.p = p\n",
        "        self.salt=salt\n",
        "\n",
        "    def __str__(self):\n",
        "        return f\"({self.a},{self.b},{self.p},{self.salt})\"\n",
        "\n",
        "    def is_on_curve(self, P):\n",
        "        \"\"\"Return True if point P is on the curve or P is None (point at infinity).\"\"\"\n",
        "        if P is None:\n",
        "            return True\n",
        "        return (P.y * P.y - (P.x * P.x * P.x) - self.a * P.x - self.b) % self.p == 0\n",
        "\n",
        "    def add(self, P, Q):\n",
        "        \"\"\"Add two points P and Q on the curve (handle point at infinity).\"\"\"\n",
        "        # identity cases\n",
        "        if P is None:\n",
        "            return Q\n",
        "        if Q is None:\n",
        "            return P\n",
        "\n",
        "        # P + (-P) = O\n",
        "        if (P.x % self.p) == (Q.x % self.p) and ((P.y + Q.y) % self.p) == 0:\n",
        "            return None\n",
        "\n",
        "        if P == Q:\n",
        "            # point doubling\n",
        "            if (P.y % self.p) == 0:\n",
        "                return None  # tangent is vertical -> point at infinity\n",
        "            num = (3 * (P.x * P.x) + self.a) % self.p\n",
        "            den = (2 * P.y) % self.p\n",
        "            l = (num * inverse_mod_p(den, self.p)) % self.p\n",
        "        else:\n",
        "            # distinct points\n",
        "            if (P.x - Q.x) % self.p == 0:\n",
        "                return None\n",
        "            num = (Q.y - P.y) % self.p\n",
        "            den = (Q.x - P.x) % self.p\n",
        "            l = (num * inverse_mod_p(den, self.p)) % self.p\n",
        "\n",
        "        x_r = (l * l - P.x - Q.x) % self.p\n",
        "        y_r = (l * (P.x - x_r) - P.y) % self.p\n",
        "        return Point(x_r, y_r)\n",
        "\n",
        "    def double(self, P):\n",
        "        \"\"\"Return 2P.\"\"\"\n",
        "        return self.add(P, P)\n",
        "\n",
        "    def neg_point(self, P):\n",
        "        \"\"\"Return -P.\"\"\"\n",
        "        if P is None:\n",
        "            return None\n",
        "        return Point(P.x, (-P.y) % self.p)\n",
        "\n",
        "    def scaler_multiply(self, k, P):\n",
        "        \"\"\"\n",
        "        Scalar multiplication k * P using double-and-add.\n",
        "        Accepts negative k (uses negation).\n",
        "        FIXED: handle k == 0, negative k, and avoid using self.p in k modulus.\n",
        "        \"\"\"\n",
        "        if P is None or k == 0:\n",
        "            return None\n",
        "        if k < 0:\n",
        "            return self.scaler_multiply(-k, self.neg_point(P))\n",
        "\n",
        "        result = None\n",
        "        addend = P\n",
        "\n",
        "        while k:\n",
        "            if k & 1:\n",
        "                result = self.add(result, addend)\n",
        "            addend = self.double(addend)\n",
        "            k >>= 1\n",
        "        return result\n",
        "\n",
        "    def legendre_symbol(self, a):\n",
        "        \"\"\"Compute the Legendre symbol (a|p) where p = self.p. Returns 0,1,-1.\"\"\"\n",
        "        a = a % self.p\n",
        "        if a == 0:\n",
        "            return 0\n",
        "        ls = pow(a, (self.p - 1) // 2, self.p)\n",
        "        return -1 if ls == self.p - 1 else ls\n",
        "\n",
        "    def sqr_root_mod_p(self, a):\n",
        "        \"\"\"\n",
        "        Tonelli-Shanks: return None if no sqrt, otherwise return [r, p-r].\n",
        "        Uses self.p (prime).\n",
        "        \"\"\"\n",
        "        a = a % self.p\n",
        "        if a == 0:\n",
        "            return [0]\n",
        "        if self.p == 2:\n",
        "            return [a]\n",
        "        if self.legendre_symbol(a) != 1:\n",
        "            return None\n",
        "\n",
        "        # Simple case p % 4 == 3\n",
        "        if self.p % 4 == 3:\n",
        "            r = pow(a, (self.p + 1) // 4, self.p)\n",
        "            return [r, (-r) % self.p]\n",
        "\n",
        "        # Factor p-1 as Q * 2^S with Q odd\n",
        "        Q = self.p - 1\n",
        "        S = 0\n",
        "        while Q % 2 == 0:\n",
        "            Q //= 2\n",
        "            S += 1\n",
        "\n",
        "        # find a quadratic non-residue z\n",
        "        z = 2\n",
        "        while self.legendre_symbol(z) != -1:\n",
        "            z += 1\n",
        "\n",
        "        c = pow(z, Q, self.p)\n",
        "        R = pow(a, (Q + 1) // 2, self.p)\n",
        "        t = pow(a, Q, self.p)\n",
        "        M = S\n",
        "\n",
        "        while t % self.p != 1:\n",
        "            # find smallest i, 0 < i < M, such that t^(2^i) == 1\n",
        "            i = 1\n",
        "            t2 = (t * t) % self.p\n",
        "            while t2 != 1:\n",
        "                t2 = (t2 * t2) % self.p\n",
        "                i += 1\n",
        "                if i == M:\n",
        "                    raise ValueError(\"sqr_root_mod_p failed to find i\")\n",
        "            b = pow(c, 1 << (M - i - 1), self.p)\n",
        "            R = (R * b) % self.p\n",
        "            c = (b * b) % self.p\n",
        "            t = (t * c) % self.p\n",
        "            M = i\n",
        "\n",
        "        return [R, (-R) % self.p]\n",
        "\n",
        "    # ---------------- helpers to (de)serialize points and ints ----------------\n",
        "    def int_to_bytes_fixed(self, v, length):\n",
        "        return v.to_bytes(length, \"big\")\n",
        "\n",
        "    def bytes_to_int(self, b):\n",
        "        return int.from_bytes(b, \"big\")\n",
        "\n",
        "    def point_to_bytes(self, P):\n",
        "        if P is None:\n",
        "            raise ValueError(\"cannot serialize point at infinity\")\n",
        "        field_len = (self.p.bit_length() + 7) // 8\n",
        "        bx = self.int_to_bytes_fixed(P.x, field_len)\n",
        "        by = self.int_to_bytes_fixed(P.y, field_len)\n",
        "        return bx + by\n",
        "\n",
        "    def bytes_to_point(self, data):\n",
        "        field_len = (self.p.bit_length() + 7) // 8\n",
        "        if len(data) != 2 * field_len:\n",
        "            raise ValueError(\"bad point encoding length\")\n",
        "        bx = data[:field_len]\n",
        "        by = data[field_len:]\n",
        "        x = int.from_bytes(bx, \"big\")\n",
        "        y = int.from_bytes(by, \"big\")\n",
        "        P = Point(x, y)\n",
        "        if not self.is_on_curve(P):\n",
        "            raise ValueError(\"point not on curve\")\n",
        "        return P\n",
        "\n",
        "    # ---------------- ECIES-like encrypt/decrypt (unchanged) ----------------\n",
        "    def ecies_encrypt(self, recipient_Q, plaintext, info=b\"ECIES-v1\"):\n",
        "        eph_priv = secrets.randbelow(n - 1) + 1\n",
        "        eph_pub = self.scaler_multiply(eph_priv, G)\n",
        "        S = self.scaler_multiply(eph_priv, recipient_Q)\n",
        "        if S is None:\n",
        "            raise ValueError(\"invalid shared secret\")\n",
        "\n",
        "        field_len = (self.p.bit_length() + 7) // 8\n",
        "        shared_bytes = self.int_to_bytes_fixed(S.x, field_len)\n",
        "\n",
        "        hkdf = HKDF(algorithm=hashes.SHA256(), length=32, salt=None, info=info)\n",
        "        sym_key = hkdf.derive(shared_bytes)\n",
        "\n",
        "        aesgcm = AESGCM(sym_key)\n",
        "        nonce = os.urandom(12)\n",
        "        ciphertext = aesgcm.encrypt(nonce, plaintext, associated_data=None)\n",
        "        return {\"ephemeral_pub\": self.point_to_bytes(eph_pub), \"nonce\": nonce, \"ciphertext\": ciphertext}\n",
        "\n",
        "    def ecies_decrypt(self, recipient_priv, bundle, info=b\"ECIES-v1\"):\n",
        "        eph_pub = self.bytes_to_point(bundle[\"ephemeral_pub\"])\n",
        "        S = self.scaler_multiply(recipient_priv, eph_pub)\n",
        "        if S is None:\n",
        "            raise ValueError(\"invalid shared secret on decrypt\")\n",
        "\n",
        "        field_len = (self.p.bit_length() + 7) // 8\n",
        "        shared_bytes = self.int_to_bytes_fixed(S.x, field_len)\n",
        "        hkdf = HKDF(algorithm=hashes.SHA256(), length=32, salt=None, info=info)\n",
        "        sym_key = hkdf.derive(shared_bytes)\n",
        "\n",
        "        aesgcm = AESGCM(sym_key)\n",
        "        plaintext = aesgcm.decrypt(bundle[\"nonce\"], bundle[\"ciphertext\"], associated_data=None)\n",
        "        return plaintext\n"
      ],
      "metadata": {
        "id": "G_GGiFeEcgyP"
      },
      "execution_count": 4,
      "outputs": []
    },
    {
      "cell_type": "code",
      "source": [
        "import hashlib\n",
        "\n",
        "class Elipic_Curve(Elipic_Curve):  # extend your existing class\n",
        "    def ecdsa_sign(self, msg, priv):\n",
        "        e = int.from_bytes(hashlib.sha256(msg).digest(), \"big\")\n",
        "        while True:\n",
        "            k = secrets.randbelow(n - 1) + 1\n",
        "            R = self.scaler_multiply(k, G)\n",
        "            r = R.x % n\n",
        "            if r == 0:\n",
        "                continue\n",
        "            k_inv = pow(k, -1, n)\n",
        "            s = (k_inv * (e + priv * r)) % n\n",
        "            if s != 0:\n",
        "                break\n",
        "        return (r, s)\n",
        "\n",
        "    def ecdsa_verify(self, msg, signature, pub):\n",
        "        r, s = signature\n",
        "        if not (1 <= r < n and 1 <= s < n):\n",
        "            return False\n",
        "        e = int.from_bytes(hashlib.sha256(msg).digest(), \"big\")\n",
        "        w = pow(s, -1, n)\n",
        "        u1 = (e * w) % n\n",
        "        u2 = (r * w) % n\n",
        "        X = self.add(self.scaler_multiply(u1, G),\n",
        "                     self.scaler_multiply(u2, pub))\n",
        "        if X is None:\n",
        "            return False\n",
        "        return (X.x % n) == r\n"
      ],
      "metadata": {
        "id": "TNvqkJ2M1PAR"
      },
      "execution_count": 5,
      "outputs": []
    },
    {
      "cell_type": "code",
      "source": [
        "# secp256k1 parameters\n",
        "p = 0xFFFFFFFFFFFFFFFFFFFFFFFFFFFFFFFFFFFFFFFFFFFFFFFFFFFFFFFEFFFFFC2F\n",
        "a = 0\n",
        "b = 7\n",
        "Gx = 55066263022277343669578718895168534326250603453777594175500187360389116729240\n",
        "Gy = 32670510020758816978083085130507043184471273380659243275938904335757337482424\n",
        "n = 0xFFFFFFFFFFFFFFFFFFFFFFFFFFFFFFFEBAAEDCE6AF48A03BBFD25E8CD0364141  # order of G\n",
        "salt = os.urandom(16)"
      ],
      "metadata": {
        "id": "A7VBTkH8c30v"
      },
      "execution_count": 6,
      "outputs": []
    },
    {
      "cell_type": "code",
      "source": [
        "curve = Elipic_Curve(a, b, p,salt)\n",
        "print(curve)\n",
        "G = Point(Gx, Gy)\n",
        "print(G)"
      ],
      "metadata": {
        "id": "nkHpQZ8Qkigr",
        "colab": {
          "base_uri": "https://localhost:8080/"
        },
        "outputId": "0528a150-100c-4142-b2a3-260539ebf899"
      },
      "execution_count": 7,
      "outputs": [
        {
          "output_type": "stream",
          "name": "stdout",
          "text": [
            "(0,7,115792089237316195423570985008687907853269984665640564039457584007908834671663,b'IO\\x8d\\xe8~\\xb5\\xfe!R<\\x96\\t~\\xf4cg')\n",
            "(55066263022277343669578718895168534326250603453777594175500187360389116729240,32670510020758816978083085130507043184471273380659243275938904335757337482424)\n"
          ]
        }
      ]
    },
    {
      "cell_type": "code",
      "source": [
        "import secrets\n",
        "# Reciever private key\n",
        "d = secrets.randbelow(n - 1) + 1\n",
        "print(\"Private key d:\", d)\n"
      ],
      "metadata": {
        "colab": {
          "base_uri": "https://localhost:8080/"
        },
        "id": "Pjz5Zp5dk6fV",
        "outputId": "326c7532-6a3f-4297-e812-47780672d3d8"
      },
      "execution_count": 8,
      "outputs": [
        {
          "output_type": "stream",
          "name": "stdout",
          "text": [
            "Private key d: 11455676176183148386573211445734049647309862430819547841733778849985700436473\n"
          ]
        }
      ]
    },
    {
      "cell_type": "code",
      "source": [
        "# Reciever public key\n",
        "Q = curve.scaler_multiply(d, G)\n",
        "print(\"Public key Q:\", Q)"
      ],
      "metadata": {
        "colab": {
          "base_uri": "https://localhost:8080/"
        },
        "id": "AIxUn-6Gk6dx",
        "outputId": "6c32a22f-f476-473e-aef8-6f6baf70844c"
      },
      "execution_count": 9,
      "outputs": [
        {
          "output_type": "stream",
          "name": "stdout",
          "text": [
            "Public key Q: (28736818726222121731898590424111381382250720398196963430207771288399512162010,67487659680413576596411187466153609266769265001522230055773190066810432943880)\n"
          ]
        }
      ]
    },
    {
      "cell_type": "code",
      "source": [
        "## Sender side\n",
        "pri = secrets.randbelow(n-1)+1\n",
        "pub = curve.scaler_multiply(pri,G)"
      ],
      "metadata": {
        "id": "u7_RTl8D1Zdz"
      },
      "execution_count": 10,
      "outputs": []
    },
    {
      "cell_type": "code",
      "source": [
        "# encrypt/decrypt\n",
        "plaintext = b\"Hello, ECIES-like hybrid!\"\n",
        "bundle = curve.ecies_encrypt(Q, plaintext)\n",
        "sig = curve.ecdsa_sign(plaintext, pri)\n",
        "print(\"Bundle:\", bundle)\n",
        "print(\"Signature:\", sig)\n",
        "\n",
        "recovered = curve.ecies_decrypt(d, bundle)\n",
        "valid = curve.ecdsa_verify(recovered, sig, pub)\n",
        "print(valid)\n",
        "print(\"Recovered:\", recovered)"
      ],
      "metadata": {
        "colab": {
          "base_uri": "https://localhost:8080/"
        },
        "id": "7n8DUY2uX4f_",
        "outputId": "0bb4508b-5714-45ef-8700-d6f693135486"
      },
      "execution_count": 11,
      "outputs": [
        {
          "output_type": "stream",
          "name": "stdout",
          "text": [
            "Bundle: {'ephemeral_pub': b'\\xce\\xf3\\xab\\xb6\\xee{\\x94\\xe0\\xc9iV]\\x04\\xd5\\xbe\\xcb\\x07sk\\xefgO$3\\xad5\\xd2l:\\x90\\xd8&\\xd26\\xd68\\x18\\x03\\x14y!.\\xbb\\xb7h\\x9ab\\xf8\\xbcw;~\\xeb\\xb8\\xf3u\\xf8\\xe4J\\xb2\\xbf\\x0bN&', 'nonce': b'\\x8bG\\xe1\\xfb\\xd6/\\xcf\\xc7\\xf5/\\x98\\xb3', 'ciphertext': b';\\xf2z\\xb5\\xe4\\x16c\\x98\\xe7E4\\xc4\\x0e5%F\\xf50\\x0bD\\xa8\\rf\\x95C/\\xf2N]\\xe0\\xf0z\\x8d$\\xde&GH5\\xdfe'}\n",
            "Signature: (72955171310556879319647668068736474565108039004342392108752807513820493697114, 25068423109364365928624575830530137530295144174042010181581117872070806626497)\n",
            "True\n",
            "Recovered: b'Hello, ECIES-like hybrid!'\n"
          ]
        }
      ]
    }
  ]
}