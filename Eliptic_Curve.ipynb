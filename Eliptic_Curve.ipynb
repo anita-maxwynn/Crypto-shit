{
  "nbformat": 4,
  "nbformat_minor": 0,
  "metadata": {
    "colab": {
      "provenance": [],
      "authorship_tag": "ABX9TyMUgv5z6FlTH8VivT+cMbM5",
      "include_colab_link": true
    },
    "kernelspec": {
      "name": "python3",
      "display_name": "Python 3"
    },
    "language_info": {
      "name": "python"
    }
  },
  "cells": [
    {
      "cell_type": "markdown",
      "metadata": {
        "id": "view-in-github",
        "colab_type": "text"
      },
      "source": [
        "<a href=\"https://colab.research.google.com/github/anita-maxwynn/Crypto-shit/blob/main/Eliptic_Curve.ipynb\" target=\"_parent\"><img src=\"https://colab.research.google.com/assets/colab-badge.svg\" alt=\"Open In Colab\"/></a>"
      ]
    },
    {
      "cell_type": "code",
      "source": [],
      "metadata": {
        "id": "I_t6XRSQdSSs"
      },
      "execution_count": null,
      "outputs": []
    },
    {
      "cell_type": "code",
      "execution_count": null,
      "metadata": {
        "id": "NRNfL9DYZg_l"
      },
      "outputs": [],
      "source": [
        "class Point:\n",
        "  def __init__(self,x,y):\n",
        "    self.x = x\n",
        "    self.y = y\n",
        "  def __str__(self):\n",
        "    return \"(\" + str(self.x) + \",\" + str(self.y) + \")\""
      ]
    },
    {
      "cell_type": "code",
      "source": [
        "def inverse_mod_p(a,p):\n",
        "  return pow(a,-1,p)"
      ],
      "metadata": {
        "id": "PAbbH9sSdT4W"
      },
      "execution_count": null,
      "outputs": []
    },
    {
      "cell_type": "code",
      "source": [
        "class Elipic_Curve:\n",
        "  def __init__(self,a,b,p):\n",
        "    self.a = a\n",
        "    self.b = b\n",
        "    self.p = p\n",
        "  def __str__(self):\n",
        "    return \"(\" + str(self.a) + \",\" + str(self.b) + \",\" + str(self.p) + \")\"\n",
        "  def is_on_curve(self,P):\n",
        "    return (P.y**2 - P.x**3 - self.a*P.x - self.b) % self.p == 0\n",
        "  def add(self,P,Q):\n",
        "    if P == None:\n",
        "      return Q\n",
        "    if Q == None:\n",
        "      return P\n",
        "    if P.x == Q.x and ((P.y + Q.y )%self.p == 0):\n",
        "      return None\n",
        "    if P == Q:\n",
        "      l = (3*P.x**2 + self.a)*inverse_mod_p(2*P.y,self.p)\n",
        "    else:\n",
        "      l = (Q.y - P.y)*inverse_mod_p((Q.x-P.x)%self.p,self.p)%self.p\n",
        "    x = (l**2 - P.x - Q.x)%p\n",
        "    y = (l*(P.x - x) - P.y)%p\n",
        "    return Point(x,y)\n",
        "  def double(self,P):\n",
        "    return self.add(P,P)\n",
        "  def neg_point(self,P):\n",
        "    return Point(P.x,-P.y%self.p)\n",
        "  def scaler_multiply(self,k,P):\n",
        "    if k%p == 0 or P is None:\n",
        "      return None\n",
        "    if k < 0:\n",
        "      return self.scaler_multiply(-k,self.neg_point(P))\n",
        "    A=None\n",
        "    B=P\n",
        "    while k>0:\n",
        "      if k&1:\n",
        "        A=self.add(A,B)\n",
        "      B=self.double(B)\n",
        "      k>>=1\n",
        "    return A"
      ],
      "metadata": {
        "id": "G_GGiFeEcgyP"
      },
      "execution_count": null,
      "outputs": []
    },
    {
      "cell_type": "code",
      "source": [
        "# secp256k1 parameters\n",
        "p = 0xFFFFFFFFFFFFFFFFFFFFFFFFFFFFFFFFFFFFFFFFFFFFFFFFFFFFFFFEFFFFFC2F\n",
        "a = 0\n",
        "b = 7\n",
        "Gx = 55066263022277343669578718895168534326250603453777594175500187360389116729240\n",
        "Gy = 32670510020758816978083085130507043184471273380659243275938904335757337482424\n",
        "n = 0xFFFFFFFFFFFFFFFFFFFFFFFFFFFFFFFEBAAEDCE6AF48A03BBFD25E8CD0364141  # order of G"
      ],
      "metadata": {
        "id": "A7VBTkH8c30v"
      },
      "execution_count": null,
      "outputs": []
    },
    {
      "cell_type": "code",
      "source": [
        "curve = Elipic_Curve(a, b, p)\n",
        "G = Point(Gx, Gy)"
      ],
      "metadata": {
        "id": "nkHpQZ8Qkigr"
      },
      "execution_count": null,
      "outputs": []
    },
    {
      "cell_type": "code",
      "source": [
        "import secrets\n",
        "\n",
        "d = secrets.randbelow(n - 1) + 1\n",
        "print(\"Private key d:\", d)\n"
      ],
      "metadata": {
        "colab": {
          "base_uri": "https://localhost:8080/"
        },
        "id": "Pjz5Zp5dk6fV",
        "outputId": "e5d452c4-3794-4057-81f2-e59ca97f37e8"
      },
      "execution_count": null,
      "outputs": [
        {
          "output_type": "stream",
          "name": "stdout",
          "text": [
            "Private key d: 77145233448432934978189842727740233546998197477343774532811066419052971487073\n"
          ]
        }
      ]
    },
    {
      "cell_type": "code",
      "source": [
        "Q = curve.scaler_multiply(d, G)\n",
        "print(\"Public key Q:\", Q)"
      ],
      "metadata": {
        "colab": {
          "base_uri": "https://localhost:8080/"
        },
        "id": "AIxUn-6Gk6dx",
        "outputId": "235df9c3-f94a-4f72-ec91-4649b452c25d"
      },
      "execution_count": null,
      "outputs": [
        {
          "output_type": "stream",
          "name": "stdout",
          "text": [
            "Public key Q: (2591820295345610217019599529947635264814566570215823516135628447849501535141,78743518150512573377089453239218158833033040398608798773127717231154683603567)\n"
          ]
        }
      ]
    },
    {
      "cell_type": "code",
      "source": [],
      "metadata": {
        "id": "1yTrNQNRmqpD"
      },
      "execution_count": null,
      "outputs": []
    }
  ]
}